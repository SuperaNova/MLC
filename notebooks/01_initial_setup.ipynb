{
 "cells": [
  {
   "cell_type": "code",
   "execution_count": null,
   "id": "1c1c0422",
   "metadata": {},
   "outputs": [
    {
     "name": "stdout",
     "output_type": "stream",
     "text": [
      "Hello World!\n"
     ]
    }
   ],
   "source": [
    "import os\n",
    "\n",
    "# Detect if running in Google Colab\n",
    "try:\n",
    "    import google.colab\n",
    "    IN_COLAB = True\n",
    "except ImportError:\n",
    "    IN_COLAB = False\n",
    "\n",
    "if IN_COLAB:\n",
    "    # Clone your repo into Colab\n",
    "    repo_url = \"https://github.com/SuperaNova/MLC.git\"\n",
    "    repo_name = \"MLC\"\n",
    "\n",
    "    if not os.path.exists(repo_name):\n",
    "        !git clone $repo_url\n",
    "    %cd $repo_name/notebooks\n",
    "\n",
    "    # Install requirements\n",
    "    !pip install -r ../requirements.txt\n",
    "\n",
    "print(\"Colab setup complete.\")\n"
   ]
  }
 ],
 "metadata": {
  "kernelspec": {
   "display_name": ".venv",
   "language": "python",
   "name": "python3"
  },
  "language_info": {
   "codemirror_mode": {
    "name": "ipython",
    "version": 3
   },
   "file_extension": ".py",
   "mimetype": "text/x-python",
   "name": "python",
   "nbconvert_exporter": "python",
   "pygments_lexer": "ipython3",
   "version": "3.13.1"
  }
 },
 "nbformat": 4,
 "nbformat_minor": 5
}
