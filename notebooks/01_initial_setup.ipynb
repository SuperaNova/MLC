{
 "cells": [
  {
   "cell_type": "code",
   "execution_count": 3,
   "id": "1c1c0422",
   "metadata": {},
   "outputs": [
    {
     "name": "stdout",
     "output_type": "stream",
     "text": [
      "Colab setup complete.\n"
     ]
    }
   ],
   "source": [
    "import os\n",
    "\n",
    "# Detect if running in Google Colab\n",
    "try:\n",
    "    import google.colab\n",
    "    IN_COLAB = True\n",
    "except ImportError:\n",
    "    IN_COLAB = False\n",
    "\n",
    "if IN_COLAB:\n",
    "    # Clone your repo into Colab\n",
    "    repo_url = \"https://github.com/SuperaNova/MLC.git\"\n",
    "    repo_name = \"MLC\"\n",
    "\n",
    "    if not os.path.exists(repo_name):\n",
    "        !git clone $repo_url\n",
    "    %cd $repo_name/notebooks\n",
    "\n",
    "    # Install requirements\n",
    "    !pip install -r ../requirements.txt\n",
    "\n",
    "print(\"Colab setup complete.\")\n"
   ]
  },
  {
   "cell_type": "code",
   "execution_count": 7,
   "id": "2d9b427e",
   "metadata": {},
   "outputs": [
    {
     "name": "stdout",
     "output_type": "stream",
     "text": [
      "(7227037, 6)\n",
      "      Timestamp  Open  High   Low  Close  Volume\n",
      "0  1.325412e+09  4.58  4.58  4.58   4.58     0.0\n",
      "1  1.325412e+09  4.58  4.58  4.58   4.58     0.0\n",
      "2  1.325412e+09  4.58  4.58  4.58   4.58     0.0\n",
      "3  1.325412e+09  4.58  4.58  4.58   4.58     0.0\n",
      "4  1.325412e+09  4.58  4.58  4.58   4.58     0.0\n",
      "<class 'pandas.core.frame.DataFrame'>\n",
      "RangeIndex: 7227037 entries, 0 to 7227036\n",
      "Data columns (total 6 columns):\n",
      " #   Column     Dtype  \n",
      "---  ------     -----  \n",
      " 0   Timestamp  float64\n",
      " 1   Open       float64\n",
      " 2   High       float64\n",
      " 3   Low        float64\n",
      " 4   Close      float64\n",
      " 5   Volume     float64\n",
      "dtypes: float64(6)\n",
      "memory usage: 330.8 MB\n",
      "None\n"
     ]
    }
   ],
   "source": [
    "# Import libraries\n",
    "import pandas as pd\n",
    "\n",
    "# Load dataset (assumes you downloaded it to data/)\n",
    "data_path = \"data/btcusd_1-min_data.csv\"  # change name if different\n",
    "df = pd.read_csv(data_path)\n",
    "\n",
    "# Quick checks\n",
    "print(df.shape)\n",
    "print(df.head())\n",
    "print(df.info())\n"
   ]
  }
 ],
 "metadata": {
  "kernelspec": {
   "display_name": ".venv",
   "language": "python",
   "name": "python3"
  },
  "language_info": {
   "codemirror_mode": {
    "name": "ipython",
    "version": 3
   },
   "file_extension": ".py",
   "mimetype": "text/x-python",
   "name": "python",
   "nbconvert_exporter": "python",
   "pygments_lexer": "ipython3",
   "version": "3.13.1"
  }
 },
 "nbformat": 4,
 "nbformat_minor": 5
}
